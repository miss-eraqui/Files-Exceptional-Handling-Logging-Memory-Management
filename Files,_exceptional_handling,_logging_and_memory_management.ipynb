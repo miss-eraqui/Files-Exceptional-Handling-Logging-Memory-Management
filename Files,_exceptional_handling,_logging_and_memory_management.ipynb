{
  "nbformat": 4,
  "nbformat_minor": 0,
  "metadata": {
    "colab": {
      "provenance": []
    },
    "kernelspec": {
      "name": "python3",
      "display_name": "Python 3"
    },
    "language_info": {
      "name": "python"
    }
  },
  "cells": [
    {
      "cell_type": "markdown",
      "source": [
        "1. How can you open a file for writing in Python and write a string to it?"
      ],
      "metadata": {
        "id": "b8TSAfr1ha6M"
      }
    },
    {
      "cell_type": "code",
      "execution_count": 41,
      "metadata": {
        "id": "-pQXnCwmgUW4"
      },
      "outputs": [],
      "source": [
        "# Open a file in write mode\n",
        "with open(\"example.txt\", \"w\") as file:\n",
        "    # Write a string to the file\n",
        "    file.write(\"This is the string to write to the file.\")"
      ]
    },
    {
      "cell_type": "markdown",
      "source": [
        "2. Write a Python program to read the contents of a file and print each line."
      ],
      "metadata": {
        "id": "KtolzKuRgJfg"
      }
    },
    {
      "cell_type": "code",
      "source": [
        "# Write some text to the file first\n",
        "with open(\"example.txt\", \"w\") as file:\n",
        "    file.write(\"Welcome to Python!\\n\")\n",
        "    file.write(\"Reading files is simple.\\n\")\n",
        "    file.write(\"Enjoy coding!\\n\")\n",
        "\n",
        "# Now read and print each line\n",
        "with open(\"example.txt\", \"r\") as file:\n",
        "    for line in file:\n",
        "        print(line.strip())"
      ],
      "metadata": {
        "colab": {
          "base_uri": "https://localhost:8080/"
        },
        "id": "vDtDMQWefLQu",
        "outputId": "6108290f-46dc-45da-9389-d6bdadfcc8c6"
      },
      "execution_count": 15,
      "outputs": [
        {
          "output_type": "stream",
          "name": "stdout",
          "text": [
            "Welcome to Python!\n",
            "Reading files is simple.\n",
            "Enjoy coding!\n"
          ]
        }
      ]
    },
    {
      "cell_type": "markdown",
      "source": [
        "3. How would you handle a case where the file doesn't exist while trying to open it for reading?"
      ],
      "metadata": {
        "id": "ExgVhsDqlnkc"
      }
    },
    {
      "cell_type": "code",
      "source": [
        "# First, write some text to the file\n",
        "with open(\"example.txt\", \"w\") as file:\n",
        "    file.write(\"Hello, world!\\n\")\n",
        "    file.write(\"Python is fun.\\n\")\n",
        "\n",
        "# Now, try to read and print each line\n",
        "filename = \"example.txt\"\n",
        "try:\n",
        "    with open(filename, \"r\") as file:\n",
        "        for line in file:\n",
        "            print(line.strip())\n",
        "except FileNotFoundError:\n",
        "    print(f\"Error: The file '{filename}' does not exist.\")"
      ],
      "metadata": {
        "colab": {
          "base_uri": "https://localhost:8080/"
        },
        "id": "2gCVo7vDlmCB",
        "outputId": "b28cdd71-3df3-4b2f-d64f-284b89f969f3"
      },
      "execution_count": 18,
      "outputs": [
        {
          "output_type": "stream",
          "name": "stdout",
          "text": [
            "Hello, world!\n",
            "Python is fun.\n"
          ]
        }
      ]
    },
    {
      "cell_type": "markdown",
      "source": [
        "4.  Write a Python script that reads from one file and writes its content to another file."
      ],
      "metadata": {
        "id": "f7wWZ9-LnJLu"
      }
    },
    {
      "cell_type": "code",
      "source": [
        "# Step 1: Write text to the source file\n",
        "with open(\"source.txt\", \"w\") as source:\n",
        "    source.write(\"Learning Python is fun!\\n\")\n",
        "    source.write(\"File handling is simple.\\n\")\n",
        "    source.write(\"Let's copy this content.\\n\")\n",
        "\n",
        "# Step 2: Read from source.txt and write to destination.txt\n",
        "with open(\"source.txt\", \"r\") as source, open(\"destination.txt\", \"w\") as dest:\n",
        "    for line in source:\n",
        "        dest.write(line)\n",
        "\n",
        "print(\"File copied successfully!\")"
      ],
      "metadata": {
        "colab": {
          "base_uri": "https://localhost:8080/"
        },
        "id": "LuOfsm2onH3_",
        "outputId": "24ad84db-3db3-4fc5-feea-94ab503196cf"
      },
      "execution_count": 22,
      "outputs": [
        {
          "output_type": "stream",
          "name": "stdout",
          "text": [
            "File copied successfully!\n"
          ]
        }
      ]
    },
    {
      "cell_type": "markdown",
      "source": [
        "5. How would you catch and handle division by zero error in Python?"
      ],
      "metadata": {
        "id": "uUCOYZQYoKVL"
      }
    },
    {
      "cell_type": "code",
      "source": [
        "try:\n",
        "    result = 10 / 0\n",
        "except ZeroDivisionError:\n",
        "    print(\"Cannot divide by zero.\")"
      ],
      "metadata": {
        "colab": {
          "base_uri": "https://localhost:8080/"
        },
        "id": "M9KatcpioJL8",
        "outputId": "55046b62-4b84-4458-88af-8cf84578d55b"
      },
      "execution_count": 25,
      "outputs": [
        {
          "output_type": "stream",
          "name": "stdout",
          "text": [
            "Cannot divide by zero.\n"
          ]
        }
      ]
    },
    {
      "cell_type": "markdown",
      "source": [
        "6.  Write a Python program that logs an error message to a log file when a division by zero exception occurs."
      ],
      "metadata": {
        "id": "PrS2bCwgoaqX"
      }
    },
    {
      "cell_type": "code",
      "source": [
        "import logging\n",
        "\n",
        "# Configure logging to write to a file\n",
        "logging.basicConfig(filename='error.log', level=logging.ERROR,\n",
        "                    format='%(asctime)s - %(levelname)s - %(message)s')\n",
        "numerator = 10\n",
        "denominator = 0\n",
        "\n",
        "try:\n",
        "    result = numerator / denominator\n",
        "    print(\"Result:\", result)\n",
        "except ZeroDivisionError:\n",
        "    logging.error(\"Attempted to divide by zero. Numerator: %d, Denominator: %d\", numerator, denominator)\n",
        "    print(\"An error occurred. Please check the error.log file.\")"
      ],
      "metadata": {
        "colab": {
          "base_uri": "https://localhost:8080/"
        },
        "id": "ljnTSxbMoYIG",
        "outputId": "8601f34d-6c89-45dd-9bb9-05aa5338423f"
      },
      "execution_count": 28,
      "outputs": [
        {
          "output_type": "stream",
          "name": "stderr",
          "text": [
            "ERROR:root:Attempted to divide by zero. Numerator: 10, Denominator: 0\n"
          ]
        },
        {
          "output_type": "stream",
          "name": "stdout",
          "text": [
            "An error occurred. Please check the error.log file.\n"
          ]
        }
      ]
    },
    {
      "cell_type": "markdown",
      "source": [
        "7. How do you log information at different levels (INFO, ERROR, WARNING) in Python using the logging module?\n"
      ],
      "metadata": {
        "id": "XDDg_R9YpEhF"
      }
    },
    {
      "cell_type": "code",
      "source": [
        "import logging\n",
        "\n",
        "# Configure basic logging to display all messages of level INFO and above\n",
        "logging.basicConfig(level=logging.INFO, format=\"%(levelname)s: %(message)s\")\n",
        "\n",
        "logging.info(\"This is an info message.\")\n",
        "logging.warning(\"This is a warning message.\")\n",
        "logging.error(\"This is an error message.\")"
      ],
      "metadata": {
        "colab": {
          "base_uri": "https://localhost:8080/"
        },
        "id": "cnW6jMUipe6G",
        "outputId": "a9b0c76f-c0fb-48ba-b83c-7a620bf8b442"
      },
      "execution_count": 33,
      "outputs": [
        {
          "output_type": "stream",
          "name": "stderr",
          "text": [
            "WARNING:root:This is a warning message.\n",
            "ERROR:root:This is an error message.\n"
          ]
        }
      ]
    },
    {
      "cell_type": "markdown",
      "source": [
        "8.  Write a program to handle a file opening error using exception handling."
      ],
      "metadata": {
        "id": "vhlbtQhBptgx"
      }
    },
    {
      "cell_type": "code",
      "source": [
        "try:\n",
        "    with open(\"my_file.txt\", \"r\") as f:\n",
        "        content = f.read()\n",
        "        print(content)\n",
        "except FileNotFoundError:\n",
        "    print(\"The file 'my_file.txt' was not found.\")\n",
        "except IOError:\n",
        "    print(\"An error occurred while reading the file 'my_file.txt'.\")"
      ],
      "metadata": {
        "colab": {
          "base_uri": "https://localhost:8080/"
        },
        "id": "MQKpZypZpsHV",
        "outputId": "d1a522ea-1b9f-46f6-957c-68dd303ab273"
      },
      "execution_count": 35,
      "outputs": [
        {
          "output_type": "stream",
          "name": "stdout",
          "text": [
            "The file 'my_file.txt' was not found.\n"
          ]
        }
      ]
    },
    {
      "cell_type": "markdown",
      "source": [
        "9. How can you read a file line by line and store its content in a list in Python?"
      ],
      "metadata": {
        "id": "gsx3fJD0p_gY"
      }
    },
    {
      "cell_type": "code",
      "source": [
        "# Step 1: Create a file with some sample lines\n",
        "with open(\"example.txt\", \"w\") as file:\n",
        "    file.write(\"Apple\\n\")\n",
        "    file.write(\"Banana\\n\")\n",
        "    file.write(\"Cherry\\n\")\n",
        "\n",
        "# Step 2: Read the file line by line and store each line in a list (removing newlines)\n",
        "with open(\"example.txt\", \"r\") as file:\n",
        "    lines = [line.strip() for line in file]\n",
        "\n",
        "# Step 3: Print the list to verify the result\n",
        "print(lines)\n"
      ],
      "metadata": {
        "colab": {
          "base_uri": "https://localhost:8080/"
        },
        "id": "x3YeZnaLp-iq",
        "outputId": "744cea61-5319-4907-a2f0-ecd94fc92da8"
      },
      "execution_count": 37,
      "outputs": [
        {
          "output_type": "stream",
          "name": "stdout",
          "text": [
            "['Apple', 'Banana', 'Cherry']\n"
          ]
        }
      ]
    },
    {
      "cell_type": "markdown",
      "source": [
        "10.  How can you append data to an existing file in Python?"
      ],
      "metadata": {
        "id": "OQPyxQs3qVpP"
      }
    },
    {
      "cell_type": "code",
      "source": [
        "# Open the file in append mode\n",
        "with open(\"example.txt\", \"a\") as file:\n",
        "    file.write(\"This is a new line being appended.\\n\")"
      ],
      "metadata": {
        "id": "9bw38zLgqTM4"
      },
      "execution_count": 39,
      "outputs": []
    },
    {
      "cell_type": "markdown",
      "source": [
        "11. Write a Python program that uses a try-except block to handle an error when attempting to access a\n",
        "dictionary key that doesn't exist."
      ],
      "metadata": {
        "id": "lpHwZjv9qggc"
      }
    },
    {
      "cell_type": "code",
      "source": [
        "# Sample dictionary\n",
        "my_dict = {\"name\": \"Alice\", \"age\": 30}\n",
        "\n",
        "try:\n",
        "    # Attempt to access a key that may not exist\n",
        "    value = my_dict[\"address\"]\n",
        "    print(\"Address:\", value)\n",
        "except KeyError:\n",
        "    print(\"Error: The key 'address' does not exist in the dictionary.\")"
      ],
      "metadata": {
        "colab": {
          "base_uri": "https://localhost:8080/"
        },
        "id": "nOOdIhSEqf5s",
        "outputId": "72b19a11-c7c6-4b14-82d6-b95fbb9c1be3"
      },
      "execution_count": 46,
      "outputs": [
        {
          "output_type": "stream",
          "name": "stdout",
          "text": [
            "Error: The key 'address' does not exist in the dictionary.\n"
          ]
        }
      ]
    },
    {
      "cell_type": "markdown",
      "source": [
        "12. Write a program that demonstrates using multiple except blocks to handle different types of exceptions."
      ],
      "metadata": {
        "id": "Sww-Kf6lrkzo"
      }
    },
    {
      "cell_type": "code",
      "source": [
        "try:\n",
        "    # Try to convert input to an integer and divide by another number\n",
        "    num = int(input(\"Enter a number: \"))\n",
        "    result = 10 / num\n",
        "\n",
        "    # Try to access a dictionary key\n",
        "    my_dict = {\"name\": \"Alice\"}\n",
        "    print(\"Age:\", my_dict[\"age\"])\n",
        "except ValueError:\n",
        "    print(\"Error: Please enter a valid integer.\")\n",
        "except ZeroDivisionError:\n",
        "    print(\"Error: Cannot divide by zero.\")\n",
        "except KeyError:\n",
        "    print(\"Error: The specified key does not exist in the dictionary.\")\n",
        "except Exception as e:\n",
        "    print(\"An unexpected error occurred:\", e)\n",
        "\n",
        ""
      ],
      "metadata": {
        "colab": {
          "base_uri": "https://localhost:8080/"
        },
        "id": "JYHHXXpXrkM9",
        "outputId": "d0e00efc-6822-4a06-ff4e-b52ffe4b074d"
      },
      "execution_count": 55,
      "outputs": [
        {
          "output_type": "stream",
          "name": "stdout",
          "text": [
            "Enter a number: 0\n",
            "Error: Cannot divide by zero.\n"
          ]
        }
      ]
    },
    {
      "cell_type": "markdown",
      "source": [
        "13. How would you check if a file exists before attempting to read it in Python?"
      ],
      "metadata": {
        "id": "fhnysxZesXgl"
      }
    },
    {
      "cell_type": "code",
      "source": [
        "# Step 1: Using os.path.exists()\n",
        "import os\n",
        "\n",
        "file_path = \"example.txt\"\n",
        "if os.path.exists(file_path):\n",
        "    with open(file_path, \"r\") as file:\n",
        "        content = file.read()\n",
        "        print(content)\n",
        "else:\n",
        "    print(\"File does not exist.\")\n",
        "\n",
        "#Step 2: Using pathlib.Path.exists()\n",
        "from pathlib import Path\n",
        "\n",
        "file_path = Path(\"example.txt\")\n",
        "if file_path.exists():\n",
        "    with open(file_path, \"r\") as file:\n",
        "        content = file.read()\n",
        "        print(content)\n",
        "else:\n",
        "    print(\"File does not exist.\")\n",
        "\n",
        "# Step 3: Using a try-except block (EAFP style):\n",
        "try:\n",
        "    with open('path/to/file.txt', 'r') as f:\n",
        "        data = f.read()\n",
        "except FileNotFoundError:\n",
        "    print(\"File does not exist.\")"
      ],
      "metadata": {
        "colab": {
          "base_uri": "https://localhost:8080/"
        },
        "id": "EymAlKj-sViv",
        "outputId": "d85b2f18-16e1-4b20-ae72-6b5da379a5b0"
      },
      "execution_count": 60,
      "outputs": [
        {
          "output_type": "stream",
          "name": "stdout",
          "text": [
            "This is the string to write to the file.\n",
            "This is the string to write to the file.\n",
            "File does not exist.\n"
          ]
        }
      ]
    },
    {
      "cell_type": "markdown",
      "source": [
        "14.  Write a program that uses the logging module to log both informational and error messages."
      ],
      "metadata": {
        "id": "fmTgJnO3uSq7"
      }
    },
    {
      "cell_type": "code",
      "source": [
        "import logging\n",
        "\n",
        "# Configure logging: log messages to a file, include time, level, and message\n",
        "logging.basicConfig(\n",
        "    filename='app.log',\n",
        "    level=logging.INFO,\n",
        "    format='%(asctime)s - %(levelname)s - %(message)s'\n",
        ")\n",
        "\n",
        "# Log an informational message\n",
        "logging.info('The application has started successfully.')\n",
        "\n",
        "try:\n",
        "    # Simulate an operation that could fail\n",
        "    result = 10 / 0\n",
        "except ZeroDivisionError as e:\n",
        "    # Log an error message with exception info\n",
        "    logging.error('An error occurred: %s', e)\n",
        "\n",
        "logging.info('The application is finishing.')"
      ],
      "metadata": {
        "colab": {
          "base_uri": "https://localhost:8080/"
        },
        "id": "5sd6JPVpuQ7Q",
        "outputId": "bad6f2ab-9e8d-4c98-a1bd-7baff704fb76"
      },
      "execution_count": 63,
      "outputs": [
        {
          "output_type": "stream",
          "name": "stderr",
          "text": [
            "ERROR:root:An error occurred: division by zero\n"
          ]
        }
      ]
    },
    {
      "cell_type": "markdown",
      "source": [
        "15.  Write a Python program that prints the content of a file and handles the case when the file is empty."
      ],
      "metadata": {
        "id": "vyFLw--HuopA"
      }
    },
    {
      "cell_type": "code",
      "source": [
        "file_path = 'your_file.txt'  # Replace with your file name\n",
        "\n",
        "try:\n",
        "    with open(file_path, 'r', encoding='utf-8') as file:\n",
        "        content = file.read()\n",
        "        if content:\n",
        "            print(content)\n",
        "        else:\n",
        "            print(\"The file is empty.\")\n",
        "except FileNotFoundError:\n",
        "    print(\"The file does not exist.\")\n",
        "except Exception as e:\n",
        "    print(f\"An error occurred: {e}\")"
      ],
      "metadata": {
        "colab": {
          "base_uri": "https://localhost:8080/"
        },
        "id": "V83GZwDKuoL2",
        "outputId": "9fceee9e-000e-4ff1-ccea-ff8c002fc06b"
      },
      "execution_count": 65,
      "outputs": [
        {
          "output_type": "stream",
          "name": "stdout",
          "text": [
            "The file does not exist.\n"
          ]
        }
      ]
    },
    {
      "cell_type": "markdown",
      "source": [
        "16.  Demonstrate how to use memory profiling to check the memory usage of a small program."
      ],
      "metadata": {
        "id": "ReIKNPnnu3Na"
      }
    },
    {
      "cell_type": "code",
      "source": [
        "# Step 1: Install memory_profiler\n",
        "# pip install memory_profiler\n",
        "\n",
        "# Step 2: Write and Decorate Your Function\n",
        "# Add the @profile decorator to the function you want to analyze:\n",
        "\n",
        "from memory_profiler import profile\n",
        "\n",
        "@profile\n",
        "def allocate_memory():\n",
        "    a = [i for i in range(10000)]\n",
        "    b = [i ** 2 for i in range(10000)]\n",
        "    return a, b\n",
        "\n",
        "if __name__ == \"__main__\":\n",
        "    allocate_memory()\n",
        "\n",
        "# Step 3: Run the Profiler\n",
        "# Execute your script with the -m memory_profiler option\n",
        "# python -m memory_profiler your_script.py"
      ],
      "metadata": {
        "colab": {
          "base_uri": "https://localhost:8080/"
        },
        "id": "1yPJErv7u2i8",
        "outputId": "4b3a9b53-5c74-4c3b-bad7-daaa19f435d0"
      },
      "execution_count": 73,
      "outputs": [
        {
          "output_type": "stream",
          "name": "stdout",
          "text": [
            "ERROR: Could not find file /tmp/ipython-input-73-3158980054.py\n"
          ]
        }
      ]
    },
    {
      "cell_type": "markdown",
      "source": [
        "17. Write a Python program to create and write a list of numbers to a file, one number per line."
      ],
      "metadata": {
        "id": "Ng5hrR4GwzzP"
      }
    },
    {
      "cell_type": "code",
      "source": [
        "# Ask the user how many numbers they want to enter\n",
        "count = int(input(\"How many numbers do you want to enter? \"))\n",
        "\n",
        "# Create an empty list to store the numbers\n",
        "numbers = []\n",
        "\n",
        "# Get numbers from the user\n",
        "for i in range(count):\n",
        "    num = input(f\"Enter number {i+1}: \")\n",
        "    numbers.append(num)\n",
        "\n",
        "# Write the numbers to a file, one per line\n",
        "with open(\"numbers.txt\", \"w\") as file:\n",
        "    for number in numbers:\n",
        "        file.write(f\"{number}\\n\")\n",
        "\n",
        "print(\"Numbers have been written to numbers.txt\")\n"
      ],
      "metadata": {
        "colab": {
          "base_uri": "https://localhost:8080/"
        },
        "id": "UtmdD7GVwy87",
        "outputId": "b33e081f-6ea9-4161-85c8-0c7078f6c1c9"
      },
      "execution_count": 78,
      "outputs": [
        {
          "output_type": "stream",
          "name": "stdout",
          "text": [
            "How many numbers do you want to enter? 5\n",
            "Enter number 1: 18\n",
            "Enter number 2: 2\n",
            "Enter number 3: 9\n",
            "Enter number 4: 25\n",
            "Enter number 5: 36\n",
            "Numbers have been written to numbers.txt\n"
          ]
        }
      ]
    },
    {
      "cell_type": "markdown",
      "source": [
        "18. How would you implement a basic logging setup that logs to a file with rotation after 1MB?"
      ],
      "metadata": {
        "id": "ijk1aRm7x20l"
      }
    },
    {
      "cell_type": "code",
      "source": [
        "import logging\n",
        "from logging.handlers import RotatingFileHandler\n",
        "\n",
        "# Create a logger\n",
        "logger = logging.getLogger(\"my_logger\")\n",
        "logger.setLevel(logging.INFO)\n",
        "\n",
        "# Create a rotating file handler: rotates after 1MB, keeps 5 backups\n",
        "handler = RotatingFileHandler(\n",
        "    \"app.log\", maxBytes=1 * 1024 * 1024, backupCount=5\n",
        ")\n",
        "\n",
        "# Optional: Set a log format\n",
        "formatter = logging.Formatter('%(asctime)s - %(levelname)s - %(message)s')\n",
        "handler.setFormatter(formatter)\n",
        "\n",
        "# Add the handler to the logger\n",
        "logger.addHandler(handler)\n",
        "\n",
        "# Example log messages\n",
        "for i in range(12):\n",
        "    logger.info(f\"This is log message {i}\")"
      ],
      "metadata": {
        "colab": {
          "base_uri": "https://localhost:8080/"
        },
        "id": "aRgSebcXyWzY",
        "outputId": "443d6607-5486-4d48-d5da-565e9c681e59"
      },
      "execution_count": 3,
      "outputs": [
        {
          "output_type": "stream",
          "name": "stderr",
          "text": [
            "INFO:my_logger:This is log message 0\n",
            "INFO:my_logger:This is log message 1\n",
            "INFO:my_logger:This is log message 2\n",
            "INFO:my_logger:This is log message 3\n",
            "INFO:my_logger:This is log message 4\n",
            "INFO:my_logger:This is log message 5\n",
            "INFO:my_logger:This is log message 6\n",
            "INFO:my_logger:This is log message 7\n",
            "INFO:my_logger:This is log message 8\n",
            "INFO:my_logger:This is log message 9\n",
            "INFO:my_logger:This is log message 10\n",
            "INFO:my_logger:This is log message 11\n"
          ]
        }
      ]
    },
    {
      "cell_type": "markdown",
      "source": [
        "19. Write a program that handles both IndexError and KeyError using a try-except block."
      ],
      "metadata": {
        "id": "taG1UBA-yrmB"
      }
    },
    {
      "cell_type": "code",
      "source": [
        "my_list = [1, 2, 3]\n",
        "my_dict = {\"a\": 10, \"b\": 20}\n",
        "\n",
        "try:\n",
        "    # This will raise IndexError\n",
        "    print(my_list[5])\n",
        "    # This will raise KeyError\n",
        "    print(my_dict[\"z\"])\n",
        "except IndexError:\n",
        "    print(\"Caught an IndexError: list index out of range.\")\n",
        "except KeyError:\n",
        "    print(\"Caught a KeyError: key not found in dictionary.\")"
      ],
      "metadata": {
        "colab": {
          "base_uri": "https://localhost:8080/"
        },
        "id": "JTkvyiG_yhZe",
        "outputId": "8a3b7f6b-e03d-4ffb-a030-262e34722f06"
      },
      "execution_count": 5,
      "outputs": [
        {
          "output_type": "stream",
          "name": "stdout",
          "text": [
            "Caught an IndexError: list index out of range.\n"
          ]
        }
      ]
    },
    {
      "cell_type": "markdown",
      "source": [
        "20. How would you open a file and read its contents using a context manager in Python?"
      ],
      "metadata": {
        "id": "l1APllSCzZ2P"
      }
    },
    {
      "cell_type": "code",
      "source": [
        "# Write text to the file\n",
        "with open(\"example.txt\", \"w\") as file:\n",
        "    file.write(\"Hello, World!\\nThis is a sample file.\\nPython is awesome.\")\n",
        "\n",
        "# Read the contents using a context manager and print\n",
        "with open(\"example.txt\", \"r\") as file:\n",
        "    contents = file.read()\n",
        "    print(contents)"
      ],
      "metadata": {
        "colab": {
          "base_uri": "https://localhost:8080/"
        },
        "id": "WaBlGTTrzY1p",
        "outputId": "cc829423-929d-44a7-e9ad-3ee4efe3aba0"
      },
      "execution_count": 8,
      "outputs": [
        {
          "output_type": "stream",
          "name": "stdout",
          "text": [
            "Hello, World!\n",
            "This is a sample file.\n",
            "Python is awesome.\n"
          ]
        }
      ]
    },
    {
      "cell_type": "markdown",
      "source": [
        "21.  Write a Python program that reads a file and prints the number of occurrences of a specific word."
      ],
      "metadata": {
        "id": "xp-24kBpzo1A"
      }
    },
    {
      "cell_type": "code",
      "source": [
        "import string\n",
        "\n",
        "# Write sample text to the file\n",
        "with open(\"sample.txt\", \"w\", encoding=\"utf8\") as file:\n",
        "    file.write(\"Python is fun. Python is powerful!\\nI love learning Python.\")\n",
        "\n",
        "search_word = \"python\"\n",
        "\n",
        "# Read the file and count occurrences\n",
        "with open(\"sample.txt\", \"r\", encoding=\"utf8\") as file:\n",
        "    text = file.read().lower()\n",
        "    for char in string.punctuation:\n",
        "        text = text.replace(char, \" \")\n",
        "    words = text.split()\n",
        "    count = words.count(search_word.lower())\n",
        "\n",
        "print(f\"The word '{search_word}' occurs {count} times in 'sample.txt'.\")\n"
      ],
      "metadata": {
        "colab": {
          "base_uri": "https://localhost:8080/"
        },
        "id": "umhLP0q8zoIY",
        "outputId": "23a05522-1a83-4e79-854a-1888e2fb78a4"
      },
      "execution_count": 15,
      "outputs": [
        {
          "output_type": "stream",
          "name": "stdout",
          "text": [
            "The word 'python' occurs 3 times in 'sample.txt'.\n"
          ]
        }
      ]
    },
    {
      "cell_type": "markdown",
      "source": [
        "22. How can you check if a file is empty before attempting to read its contents?"
      ],
      "metadata": {
        "id": "P6QgnYJP1XEp"
      }
    },
    {
      "cell_type": "code",
      "metadata": {
        "colab": {
          "base_uri": "https://localhost:8080/"
        },
        "id": "827e9e7d",
        "outputId": "6516f5c4-864d-4596-e196-6687fa5d7794"
      },
      "source": [
        "import os\n",
        "\n",
        "# Create an empty file\n",
        "with open(\"empty.txt\", \"w\") as f:\n",
        "    pass\n",
        "\n",
        "# Create a file with some content\n",
        "with open(\"not_empty.txt\", \"w\") as f:\n",
        "    f.write(\"Hello, world!\")\n",
        "\n",
        "# Function to check if a file is empty\n",
        "def check_file_empty(filename):\n",
        "    if os.path.getsize(filename) == 0:\n",
        "        print(f\"{filename} is empty.\")\n",
        "    else:\n",
        "        print(f\"{filename} is not empty.\")\n",
        "        with open(filename, \"r\") as f:\n",
        "            print(\"Contents:\")\n",
        "            print(f.read())\n",
        "\n",
        "# Check both files\n",
        "check_file_empty(\"empty.txt\")\n",
        "print(\"---\")\n",
        "check_file_empty(\"not_empty.txt\")\n"
      ],
      "execution_count": 22,
      "outputs": [
        {
          "output_type": "stream",
          "name": "stdout",
          "text": [
            "empty.txt is empty.\n",
            "---\n",
            "not_empty.txt is not empty.\n",
            "Contents:\n",
            "Hello, world!\n"
          ]
        }
      ]
    },
    {
      "cell_type": "markdown",
      "source": [
        "23. Write a Python program that writes to a log file when an error occurs during file handling."
      ],
      "metadata": {
        "id": "Kaxi6U2P2eaH"
      }
    },
    {
      "cell_type": "code",
      "metadata": {
        "colab": {
          "base_uri": "https://localhost:8080/"
        },
        "id": "cd380dc6",
        "outputId": "63b8b8b6-8ad0-40f3-d4e4-caae92af6ebc"
      },
      "source": [
        "import logging\n",
        "\n",
        "# Set up logging to a file\n",
        "logging.basicConfig(\n",
        "    filename='error.log',\n",
        "    level=logging.ERROR,\n",
        "    format='%(asctime)s - %(levelname)s - %(message)s'\n",
        ")\n",
        "\n",
        "filename = \"data.txt\"  # Try changing this to a non-existent file to trigger the error\n",
        "\n",
        "try:\n",
        "    with open(filename, \"r\") as file:\n",
        "        contents = file.read()\n",
        "        print(contents)\n",
        "except Exception as e:\n",
        "    logging.error(f\"Error occurred while handling file '{filename}': {e}\")\n",
        "    print(\"An error occurred. Check 'error.log' for details.\")\n"
      ],
      "execution_count": 24,
      "outputs": [
        {
          "output_type": "stream",
          "name": "stderr",
          "text": [
            "ERROR:root:Error occurred while handling file 'data.txt': [Errno 2] No such file or directory: 'data.txt'\n"
          ]
        },
        {
          "output_type": "stream",
          "name": "stdout",
          "text": [
            "An error occurred. Check 'error.log' for details.\n"
          ]
        }
      ]
    }
  ]
}